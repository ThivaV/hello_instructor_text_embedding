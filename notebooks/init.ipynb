{
 "cells": [
  {
   "cell_type": "code",
   "execution_count": null,
   "id": "initial_id",
   "metadata": {
    "collapsed": true
   },
   "outputs": [],
   "source": [
    "# %pip install torchvision\n",
    "# %pip install tqdm\n",
    "# %pip install sentence-transformers\n",
    "# %pip install InstructorEmbedding"
   ]
  },
  {
   "cell_type": "markdown",
   "source": [
    "# 1. hkunlp/instructor-large"
   ],
   "metadata": {
    "collapsed": false
   },
   "id": "ab994b9062c6869f"
  },
  {
   "cell_type": "markdown",
   "source": [
    "> [instructor-large](https://huggingface.co/hkunlp/instructor-large)"
   ],
   "metadata": {
    "collapsed": false
   },
   "id": "cf3b5da5ad781fb6"
  },
  {
   "cell_type": "code",
   "execution_count": 1,
   "outputs": [
    {
     "name": "stderr",
     "output_type": "stream",
     "text": [
      "/home/sm-ce-36/thivav/repo/instructor_text_embedding/env/instructor_text_embedding/lib/python3.9/site-packages/InstructorEmbedding/instructor.py:7: TqdmWarning: IProgress not found. Please update jupyter and ipywidgets. See https://ipywidgets.readthedocs.io/en/stable/user_install.html\n",
      "  from tqdm.autonotebook import trange\n"
     ]
    }
   ],
   "source": [
    "from InstructorEmbedding import INSTRUCTOR"
   ],
   "metadata": {
    "collapsed": false,
    "ExecuteTime": {
     "end_time": "2023-07-29T05:24:08.639156537Z",
     "start_time": "2023-07-29T05:24:06.794009683Z"
    }
   },
   "id": "9475c7c5e3033ce7"
  },
  {
   "cell_type": "code",
   "execution_count": 2,
   "outputs": [
    {
     "name": "stdout",
     "output_type": "stream",
     "text": [
      "load INSTRUCTOR_Transformer\n",
      "max_seq_length  512\n",
      "[[-6.15552627e-02  1.04199909e-02  5.88440849e-03  1.93768777e-02\n",
      "   5.71417809e-02  2.57655680e-02 -4.01848811e-05 -2.80044544e-02\n",
      "  -2.92965453e-02  4.91884835e-02  6.78200126e-02  2.18692459e-02\n",
      "   4.54528630e-02  1.50187174e-02 -4.84451912e-02 -3.25259753e-02\n",
      "  -3.56492661e-02  1.19935432e-02 -6.83915243e-03  3.03126313e-02\n",
      "   5.17491624e-02  3.48140560e-02  4.91032703e-03  6.68928474e-02\n",
      "   1.52824204e-02  3.54217105e-02  1.07743740e-02  6.89828917e-02\n",
      "   4.44019511e-02 -3.23419496e-02  1.24267889e-02 -2.15528179e-02\n",
      "  -1.62690915e-02 -4.15058285e-02 -2.42290483e-03 -3.07159079e-03\n",
      "   4.27047350e-02  1.56428684e-02  2.57813130e-02  5.92843294e-02\n",
      "  -1.99174136e-02  1.32361799e-02  1.08407950e-02 -4.00610566e-02\n",
      "  -1.36212725e-03 -1.57032814e-02 -2.53812242e-02 -1.31972805e-02\n",
      "  -7.83779379e-03 -1.14009008e-02 -4.82025407e-02 -2.58416273e-02\n",
      "  -4.98771109e-03  4.98239547e-02  1.19490065e-02 -5.55060543e-02\n",
      "  -2.82120351e-02 -3.32208872e-02  2.46765111e-02 -5.66114485e-02\n",
      "  -5.12201386e-03  1.95142869e-02 -2.12629829e-02  1.92354042e-02\n",
      "   2.46065073e-02 -4.58347723e-02  3.27664278e-02 -3.99055742e-02\n",
      "   5.31269349e-02  9.05527559e-04  4.53844778e-02 -2.51501352e-02\n",
      "   1.74823881e-03 -9.64769274e-02 -9.51786060e-03 -6.47392124e-03\n",
      "   3.51561382e-02  3.58432494e-02 -5.11278324e-02  4.30903099e-02\n",
      "   4.58191633e-02  1.91871580e-02  2.38421671e-02 -1.71816293e-02\n",
      "  -1.52623244e-02  5.40182367e-02 -5.58874011e-02  4.29563001e-02\n",
      "   8.48113280e-03  7.83620495e-03 -3.27342823e-02 -1.08465450e-02\n",
      "  -7.19641568e-03 -4.37382981e-02 -1.88113526e-02  5.16907349e-02\n",
      "   4.62869145e-02 -2.63639893e-02  3.73640880e-02  1.84657965e-02\n",
      "   5.99115565e-02  1.80141302e-04 -2.35873796e-02  5.71749285e-02\n",
      "   1.20532736e-02 -3.81674580e-02 -3.55241075e-02  2.34813849e-03\n",
      "  -4.45777997e-02  9.34025273e-03  5.85195236e-03 -3.56189236e-02\n",
      "  -2.23838575e-02 -1.38210715e-03  8.74637067e-03  2.08802372e-02\n",
      "   7.03728944e-02 -4.39637005e-02 -4.53046709e-02 -4.76960503e-02\n",
      "   4.33718599e-02 -1.97182014e-03 -5.65527752e-03 -2.16748025e-02\n",
      "  -7.46926218e-02  1.90407708e-02 -2.33457312e-02 -5.68974577e-02\n",
      "  -9.49267950e-03  4.25820984e-03  3.14501813e-03  1.90789737e-02\n",
      "  -1.00614019e-02 -6.33771420e-02  4.90878969e-02  2.97248526e-03\n",
      "  -7.01222867e-02  1.71163045e-02  1.05466843e-02  8.59851614e-02\n",
      "  -5.78762367e-02 -3.88501137e-02  4.20247996e-03 -1.92795359e-02\n",
      "  -4.11053002e-02  7.98566174e-03  4.75644283e-02 -4.87977602e-02\n",
      "  -3.62160131e-02 -2.10572612e-02  4.02226932e-02 -4.74730358e-02\n",
      "  -2.78858747e-02  8.39250907e-02 -9.76029597e-03  2.62570437e-02\n",
      "  -5.60530759e-02  1.52837224e-02  1.54583401e-03  2.02960498e-03\n",
      "  -3.28001268e-02  5.76916039e-02 -7.33235553e-02 -4.00819927e-02\n",
      "  -3.98107953e-02 -3.84523645e-02 -8.67155753e-03  1.05411708e-01\n",
      "  -2.86331237e-03 -1.91161316e-02 -5.60036413e-02  9.67338309e-03\n",
      "   5.51291034e-02  2.56364211e-03 -2.94723455e-02  5.84518462e-02\n",
      "   5.15934229e-02 -1.61305186e-03 -2.19461825e-02  5.65167554e-02\n",
      "   4.74953279e-02 -2.44090706e-02 -2.66008992e-02 -5.86746773e-03\n",
      "   2.24451218e-02 -2.23603705e-03  4.56711045e-03  3.27842422e-02\n",
      "   5.26623288e-03 -2.01674551e-02 -2.33967975e-02  4.43987399e-02\n",
      "  -1.51708275e-02  7.38917291e-03  2.71087196e-02 -2.46057920e-02\n",
      "  -1.87857188e-02 -5.61464461e-04 -3.28655392e-02 -1.21782236e-02\n",
      "   1.79727422e-03 -1.50850788e-02  2.52194256e-02  1.25257755e-02\n",
      "  -2.65359791e-04  1.23138353e-02 -6.45002862e-03  1.02272674e-01\n",
      "  -2.98037715e-02  5.94182312e-02 -2.78096017e-03 -3.49573679e-02\n",
      "   3.06671727e-02  5.42211048e-02  5.95246293e-02  4.14741263e-02\n",
      "  -4.06689895e-03 -3.94712463e-02  1.96131431e-02  5.96131235e-02\n",
      "   4.44265865e-02  4.40843925e-02 -5.12231402e-02 -3.00020408e-02\n",
      "   3.01150158e-02  2.40173973e-02 -3.39305885e-02 -1.70434006e-02\n",
      "   8.32551345e-03  2.66083386e-02  7.67713366e-03  1.76458433e-02\n",
      "  -2.06325063e-03  1.77012943e-02 -6.08421750e-02 -7.96776712e-02\n",
      "   4.99934442e-02  2.96638533e-02 -4.47009411e-03  1.65794324e-02\n",
      "  -2.35370398e-02 -3.23977438e-03  2.61382628e-02 -1.34953307e-02\n",
      "  -1.60201844e-02 -1.08793685e-02 -1.77004971e-02 -6.53111422e-03\n",
      "   6.91719949e-02 -4.63659726e-02  4.15586568e-02  1.24583598e-02\n",
      "  -1.88725520e-04  2.47693639e-02 -3.62277292e-02  5.47523722e-02\n",
      "   1.54009983e-01  6.00456586e-03 -2.70665511e-02  4.70894761e-02\n",
      "   4.09195684e-02  4.31693867e-02  6.22434355e-02 -2.51828600e-02\n",
      "   6.71826899e-02  1.89108830e-02  3.67507823e-02  7.62735754e-02\n",
      "   5.01050672e-04 -7.33284000e-03  1.95556283e-02  8.43793601e-02\n",
      "   1.24929100e-02 -2.75657373e-03  4.97817136e-02 -1.73069611e-02\n",
      "   2.77005229e-02 -2.63486300e-02 -2.21686810e-02  3.95561103e-03\n",
      "  -9.68612079e-03  3.96470763e-02 -8.72506853e-03 -1.07546160e-02\n",
      "  -2.70988829e-02 -1.17305303e-02 -1.16984015e-02  4.52318490e-02\n",
      "  -9.12858080e-03 -1.14591718e-02  8.29536747e-03 -3.94435227e-02\n",
      "   8.80732387e-03 -3.67274545e-02 -4.45834659e-02 -2.38478389e-02\n",
      "   1.73519570e-02  2.46788189e-02 -9.24503356e-02  3.40846553e-03\n",
      "  -8.58144388e-02 -1.69283785e-02  8.74705799e-03 -2.66722660e-03\n",
      "  -3.10086529e-03 -6.62742853e-02  1.74709838e-02 -6.20296970e-02\n",
      "  -7.71831945e-02 -4.30789776e-02 -6.97872937e-02 -2.76594125e-02\n",
      "  -7.36039579e-02  2.61303931e-02  4.94785458e-02  1.88994482e-02\n",
      "   2.05077250e-02  5.93992881e-03 -2.71200631e-02 -4.64439504e-02\n",
      "   2.66322866e-02  2.63824426e-02  3.03617190e-03 -4.70094867e-02\n",
      "  -8.68524797e-03 -1.94981520e-03 -1.47214429e-02 -3.10322680e-02\n",
      "  -3.54933180e-02  7.64071718e-02  9.24097970e-02  1.11720497e-02\n",
      "   6.86150556e-03  2.67613679e-02 -4.66881432e-02 -4.80801016e-02\n",
      "  -1.76523291e-02 -5.05446680e-02 -2.54300330e-02 -2.59506684e-02\n",
      "  -2.86576096e-02 -3.34676728e-02 -3.07256356e-02  6.79465756e-03\n",
      "  -5.43393195e-02 -2.23254762e-03  1.03654973e-02  3.52348499e-02\n",
      "   2.40201559e-02 -2.09923671e-03 -8.59064758e-02 -4.86475974e-02\n",
      "   3.41627039e-02  9.51631833e-03  2.42883037e-03 -6.15581088e-02\n",
      "  -2.23672725e-02  1.49234310e-02 -6.16901880e-03 -2.94565558e-02\n",
      "  -8.48871283e-03  3.98517437e-02  3.54111418e-02 -1.31471222e-02\n",
      "  -2.31655948e-02 -2.86290571e-02  1.44813117e-02 -3.19011463e-03\n",
      "   5.59895253e-03 -6.02383539e-02 -5.41782789e-02  6.31063944e-03\n",
      "  -3.27197160e-03  6.00864477e-02 -4.93385196e-02 -1.23744970e-02\n",
      "  -2.60731447e-02  3.88635322e-02  3.19503173e-02  2.37053372e-02\n",
      "  -2.05829702e-02  1.42387496e-02 -3.58667374e-02 -3.98508646e-02\n",
      "   8.55066627e-03 -2.32857782e-02  1.41011244e-02  5.81302680e-02\n",
      "  -4.17654496e-03  7.78259803e-03  8.50560889e-02  2.76554506e-02\n",
      "   4.23116311e-02  2.45192852e-02 -2.62568891e-02  3.76733541e-02\n",
      "  -1.03408853e-02  2.60650143e-02  6.19982975e-03 -1.73710976e-02\n",
      "  -5.55875227e-02 -1.02811225e-01 -8.27026740e-03 -6.74285553e-03\n",
      "  -5.95137514e-02  1.29434923e-02  4.41101007e-02 -7.02069700e-03\n",
      "  -3.03075369e-02 -9.03239567e-03  2.10526474e-02  2.01296899e-02\n",
      "  -3.11781210e-03  4.94987555e-02 -2.36510094e-02  2.80551519e-02\n",
      "  -2.48605236e-02  5.25815785e-03 -5.47549576e-02 -1.80020817e-02\n",
      "  -6.72237203e-03  7.68097118e-02  2.41172332e-02  6.28411770e-02\n",
      "   4.77913357e-02 -1.15464935e-02 -4.14417088e-02  2.10504960e-02\n",
      "   6.09488599e-02 -2.36858018e-02 -3.18970941e-02  2.34901183e-03\n",
      "  -2.75846943e-03  1.48618768e-03 -4.22429573e-03  5.57198701e-03\n",
      "   2.00943667e-02  5.29720783e-02 -3.99871208e-02 -1.41997430e-02\n",
      "   3.94999571e-02 -1.47230728e-02 -4.10684012e-03 -6.41633645e-02\n",
      "  -2.31138412e-02  1.63525681e-03  6.87347678e-03  5.51297814e-02\n",
      "   1.13907279e-02  3.55854705e-02  5.87924458e-02  2.42435951e-02\n",
      "  -3.97643782e-02 -7.16551989e-02  4.69529703e-02 -3.05532152e-03\n",
      "  -4.91016470e-02 -9.50928256e-02 -1.41104050e-02  2.90550943e-02\n",
      "   2.07553767e-02 -2.56224279e-03 -2.63764765e-02 -5.93052991e-03\n",
      "   6.81198090e-02 -2.53772512e-02  6.08022697e-02  4.24165688e-02\n",
      "   4.66698669e-02  3.79461348e-02 -1.22388816e-02  6.11324497e-02\n",
      "  -1.82264987e-02 -8.81061703e-03  2.42136922e-02  2.62034535e-02\n",
      "  -1.55038983e-02 -2.20747292e-02 -5.16002886e-02  2.53373291e-02\n",
      "   3.05230375e-02  1.20210228e-02  8.25989991e-02 -2.68187318e-02\n",
      "  -3.36164124e-02 -3.96278538e-02  2.64574755e-02 -4.73223440e-02\n",
      "   5.45928292e-02  4.71893214e-02  5.40369861e-02 -3.63412164e-02\n",
      "  -4.38812077e-02 -9.25776083e-03 -1.49381906e-02  1.94572601e-02\n",
      "  -4.68942858e-02 -2.96848789e-02 -6.92514926e-02  2.51878574e-02\n",
      "  -1.31793972e-02 -3.26385312e-02 -8.38335454e-02  1.62501279e-02\n",
      "   5.05868159e-03 -3.85647714e-02  4.18353155e-02  4.50653471e-02\n",
      "   4.53344621e-02  3.85494605e-02  5.27763069e-02  9.01090167e-03\n",
      "  -2.32415143e-02  4.14123312e-02 -3.90885249e-02 -1.84995271e-02\n",
      "  -2.91617382e-02 -6.02056943e-02 -3.62730958e-02  4.92623029e-03\n",
      "  -1.51348123e-02 -1.77912544e-02 -6.56068511e-03  3.74852866e-02\n",
      "  -4.98751830e-03  3.45563330e-02  8.38176627e-03  1.23971188e-02\n",
      "   1.30274482e-02 -5.76015376e-02 -1.41846295e-02 -3.29240113e-02\n",
      "  -6.02640659e-02 -4.08707075e-02  6.09732494e-02 -5.65142743e-03\n",
      "  -2.64281519e-02  1.45490095e-02  1.39951501e-02  2.01470554e-02\n",
      "   1.63883958e-02 -4.30175960e-02  8.81800242e-03  9.79693327e-03\n",
      "  -4.37083468e-02 -1.07098445e-02 -2.09241901e-02 -1.68447625e-02\n",
      "   2.54024155e-02 -4.39964309e-02  2.77971942e-02  2.39688512e-02\n",
      "   4.46380768e-03 -4.09839563e-02  1.39753716e-02 -1.02954321e-02\n",
      "  -4.48161736e-02  1.04085468e-02 -2.32339464e-02  8.22257251e-03\n",
      "   1.08463941e-02 -7.12043280e-03 -2.48803925e-02  1.47036817e-02\n",
      "  -1.03130294e-02  5.29496707e-02  2.34216079e-02 -3.16518173e-02\n",
      "   2.24910602e-02 -1.01565402e-02  2.24805549e-02 -6.64025024e-02\n",
      "   2.63604522e-02 -2.33393200e-02  2.29447111e-02 -1.88058559e-02\n",
      "  -2.10313057e-03 -4.88403216e-02  4.41654511e-02 -2.42530257e-02\n",
      "  -3.33837792e-02  6.30348036e-03  1.08948885e-03  1.65918248e-03\n",
      "   1.43814711e-02 -6.16017962e-03  2.33820472e-02 -6.41303658e-02\n",
      "   2.14748587e-02  1.68789178e-02 -1.88098792e-02 -1.45088257e-02\n",
      "   4.35655639e-02 -3.56806517e-02 -1.71170831e-02  4.00119135e-03\n",
      "  -1.24642029e-02  3.74952182e-02  3.54862548e-02  2.71979184e-03\n",
      "   4.88897450e-02 -1.42481411e-02 -2.37889662e-02  1.45645356e-02\n",
      "  -5.29264621e-02 -3.16047631e-02 -2.55868081e-02  6.24947716e-04\n",
      "   1.23044737e-02  1.52396616e-02  5.92730334e-03 -6.96792677e-02\n",
      "  -4.38257121e-02  3.32457758e-02  4.29933332e-02  3.41573469e-02\n",
      "   5.74664306e-03  6.92842621e-03  2.19891723e-02  5.40519953e-02\n",
      "  -3.47650945e-02 -6.38604071e-03 -1.06168566e-02  5.59756253e-03\n",
      "   2.51517501e-02  1.97777734e-03 -9.76092927e-03  1.29118180e-02\n",
      "  -5.10915816e-02 -4.22592573e-02  6.32157177e-02  6.68454096e-02\n",
      "   3.72742787e-02 -1.31203542e-02 -3.29280011e-02  3.23108919e-02\n",
      "   2.64140982e-02 -4.51177172e-02  6.29258081e-02 -3.71046620e-03\n",
      "  -3.95429395e-02  5.86496964e-02 -5.98639622e-03  1.91448089e-02\n",
      "   3.20215262e-02  5.33388630e-02 -2.62014270e-02  2.29458027e-02\n",
      "  -1.26508866e-02  6.65134517e-03  6.07207976e-02 -3.29924598e-02\n",
      "  -2.04965305e-02 -5.14310375e-02  6.54849783e-02 -4.22492288e-02\n",
      "   9.26519334e-02  1.99730266e-02 -1.83647852e-02  1.88232283e-03\n",
      "  -4.16838452e-02 -6.10365681e-02  2.76884940e-02 -3.12236119e-02\n",
      "   5.57781495e-02 -3.40828001e-02 -5.36403507e-02  3.83231528e-02\n",
      "   1.50124645e-02 -6.74923360e-02  6.30307719e-02  1.23501029e-02\n",
      "   5.98304309e-02  2.07509398e-02  3.15652266e-02 -3.75223532e-02\n",
      "   3.68293971e-02 -6.04589507e-02  9.98122990e-03 -3.74645405e-02\n",
      "   4.14430210e-03  2.01168507e-02 -1.38435932e-02 -6.81752991e-03\n",
      "   3.87795828e-03 -8.58292729e-03 -1.53929193e-03  4.07204069e-02\n",
      "  -5.60819432e-02 -6.66264743e-02  2.24500354e-02  1.80751961e-02\n",
      "  -1.88874244e-03  1.47162657e-02 -2.16904916e-02  8.98237061e-03\n",
      "   3.33474614e-02 -1.17769474e-02 -2.53784601e-02  7.49977864e-03\n",
      "   1.59923248e-02 -5.08552305e-02 -2.55495775e-02  3.99981141e-02\n",
      "   2.41953484e-03 -1.39974179e-02  1.12951621e-02  1.01209211e-03\n",
      "  -1.35118491e-04  1.50756817e-02  3.66248237e-03  3.56586389e-02\n",
      "  -2.39739642e-02 -5.98192215e-03 -1.14465142e-02  7.17898458e-03\n",
      "  -7.58271478e-03 -1.56441070e-02  2.08631977e-02  4.67960909e-02\n",
      "   9.20427777e-03  9.97737236e-03 -1.69361867e-02 -3.79866734e-02\n",
      "   2.12064050e-02 -3.93209793e-02  2.39590071e-02  4.52188635e-03\n",
      "  -4.90421988e-02 -2.53686830e-02 -5.13280444e-02 -3.11175715e-02\n",
      "   3.69731188e-02 -3.32236588e-02  2.64319666e-02  3.13280262e-02\n",
      "   5.02048135e-02 -3.51830311e-02 -9.47780237e-02 -3.81823629e-02\n",
      "  -2.52813045e-02  8.34161229e-03  1.06830755e-02 -2.85213180e-02\n",
      "   1.14974445e-02 -1.63908321e-02 -5.35691381e-02  1.44921457e-02\n",
      "   1.44734280e-02  1.46977436e-02  3.46375965e-02  4.89880778e-02\n",
      "  -2.99605671e-02  7.35144131e-03  1.49103850e-02 -2.81755980e-02\n",
      "   4.02826704e-02  1.23249050e-02  2.03392170e-02  4.75965329e-02\n",
      "   4.34238613e-02  8.02049506e-03 -1.76124519e-03 -6.28188923e-02\n",
      "  -4.67858873e-02 -3.76614109e-02  1.02270264e-02  4.39473838e-02]]\n"
     ]
    }
   ],
   "source": [
    "model = INSTRUCTOR('hkunlp/instructor-large')\n",
    "sentence = \"3D ActionSLAM: wearable person tracking in multi-floor environments\"\n",
    "instruction = \"Represent the Science title:\"\n",
    "embeddings = model.encode([[instruction,sentence]])\n",
    "print(embeddings)"
   ],
   "metadata": {
    "collapsed": false,
    "ExecuteTime": {
     "end_time": "2023-07-29T05:24:19.004365724Z",
     "start_time": "2023-07-29T05:24:15.877609122Z"
    }
   },
   "id": "1d727a2a520fe762"
  },
  {
   "cell_type": "markdown",
   "source": [
    "## Calculate embeddings for your customized texts"
   ],
   "metadata": {
    "collapsed": false
   },
   "id": "39fac1c125eb6a31"
  },
  {
   "cell_type": "markdown",
   "source": [
    "### Calculate sentence similarities"
   ],
   "metadata": {
    "collapsed": false
   },
   "id": "c7a8020dbbd32ccd"
  },
  {
   "cell_type": "code",
   "execution_count": 3,
   "outputs": [
    {
     "name": "stdout",
     "output_type": "stream",
     "text": [
      "[[0.8122707 0.7351362]\n",
      " [0.6770725 0.8141109]]\n"
     ]
    }
   ],
   "source": [
    "from sklearn.metrics.pairwise import cosine_similarity\n",
    "\n",
    "sentences_a = [['Represent the Science sentence: ','Parton energy loss in QCD matter'],\n",
    "               ['Represent the Financial statement: ','The Federal Reserve on Wednesday raised its benchmark interest rate.']]\n",
    "sentences_b = [['Represent the Science sentence: ','The Chiral Phase Transition in Dissipative Dynamics'],\n",
    "               ['Represent the Financial statement: ','The funds rose less than 0.5 per cent on Friday']]\n",
    "\n",
    "embeddings_a = model.encode(sentences_a)\n",
    "embeddings_b = model.encode(sentences_b)\n",
    "similarities = cosine_similarity(embeddings_a,embeddings_b)\n",
    "\n",
    "print(similarities)"
   ],
   "metadata": {
    "collapsed": false,
    "ExecuteTime": {
     "end_time": "2023-07-29T05:24:37.412842663Z",
     "start_time": "2023-07-29T05:24:37.093852715Z"
    }
   },
   "id": "abc2ba3ee2923aea"
  },
  {
   "cell_type": "markdown",
   "source": [
    "### Information Retrieval"
   ],
   "metadata": {
    "collapsed": false
   },
   "id": "988e5ecf9ad6fae4"
  },
  {
   "cell_type": "code",
   "execution_count": 4,
   "outputs": [
    {
     "name": "stdout",
     "output_type": "stream",
     "text": [
      "0\n"
     ]
    }
   ],
   "source": [
    "import numpy as np\n",
    "from sklearn.metrics.pairwise import cosine_similarity\n",
    "\n",
    "query  = [['Represent the Wikipedia question for retrieving supporting documents: ',\n",
    "           'where is the food stored in a yam plant']]\n",
    "corpus = [['Represent the Wikipedia document for retrieval: ',\n",
    "           'Capitalism has been dominant in the Western world since the end of feudalism, but most feel[who?] that the term \"mixed economies\" more precisely describes most contemporary economies, due to their containing both private-owned and state-owned enterprises. In capitalism, prices determine the demand-supply scale. For example, higher demand for certain goods and services lead to higher prices and lower demand for certain goods lead to lower prices.'],\n",
    "          ['Represent the Wikipedia document for retrieval: ',\n",
    "           \"The disparate impact theory is especially controversial under the Fair Housing Act because the Act regulates many activities relating to housing, insurance, and mortgage loansâ€”and some scholars have argued that the theory's use under the Fair Housing Act, combined with extensions of the Community Reinvestment Act, contributed to rise of sub-prime lending and the crash of the U.S. housing market and ensuing global economic recession\"],\n",
    "          ['Represent the Wikipedia document for retrieval: ',\n",
    "           'Disparate impact in United States labor law refers to practices in employment, housing, and other areas that adversely affect one group of people of a protected characteristic more than another, even though rules applied by employers or landlords are formally neutral. Although the protected classes vary by statute, most federal civil rights laws protect based on race, color, religion, national origin, and sex as protected traits, and some laws include disability status and other traits as well.']]\n",
    "\n",
    "query_embeddings = model.encode(query)\n",
    "corpus_embeddings = model.encode(corpus)\n",
    "similarities = cosine_similarity(query_embeddings,corpus_embeddings)\n",
    "retrieved_doc_id = np.argmax(similarities)\n",
    "\n",
    "print(retrieved_doc_id)"
   ],
   "metadata": {
    "collapsed": false,
    "ExecuteTime": {
     "end_time": "2023-07-29T05:28:01.442689937Z",
     "start_time": "2023-07-29T05:28:00.507752470Z"
    }
   },
   "id": "45383c59b90c579"
  },
  {
   "cell_type": "markdown",
   "source": [
    "### Clustering"
   ],
   "metadata": {
    "collapsed": false
   },
   "id": "8a6ae8f452b246b3"
  },
  {
   "cell_type": "code",
   "execution_count": 6,
   "outputs": [
    {
     "name": "stdout",
     "output_type": "stream",
     "text": [
      "cluster_assignment:  [1 0 1 1 1]\n"
     ]
    },
    {
     "name": "stderr",
     "output_type": "stream",
     "text": [
      "/home/sm-ce-36/thivav/repo/instructor_text_embedding/env/instructor_text_embedding/lib/python3.9/site-packages/sklearn/cluster/_kmeans.py:1930: FutureWarning: The default value of `n_init` will change from 3 to 'auto' in 1.4. Set the value of `n_init` explicitly to suppress the warning\n",
      "  super()._check_params_vs_input(X, default_n_init=3)\n"
     ]
    }
   ],
   "source": [
    "import sklearn.cluster\n",
    "\n",
    "sentences = [['Represent the Medicine sentence for clustering: ',\n",
    "              'Dynamical Scalar Degree of Freedom in Horava-Lifshitz Gravity'],\n",
    "             ['Represent the Medicine sentence for clustering: ',\n",
    "              'Comparison of Atmospheric Neutrino Flux Calculations at Low Energies'],\n",
    "             ['Represent the Medicine sentence for clustering: ',\n",
    "              'Fermion Bags in the Massive Gross-Neveu Model'],\n",
    "             ['Represent the Medicine sentence for clustering: ',\n",
    "              \"QCD corrections to Associated t-tbar-H production at the Tevatron\"],\n",
    "             ['Represent the Medicine sentence for clustering: ',\n",
    "              'A New Analysis of the R Measurements: Resonance Parameters of the Higher,  Vector States of Charmonium']]\n",
    "\n",
    "embeddings = model.encode(sentences)\n",
    "clustering_model = sklearn.cluster.MiniBatchKMeans(n_clusters=2)\n",
    "clustering_model.fit(embeddings)\n",
    "cluster_assignment = clustering_model.labels_\n",
    "\n",
    "print('cluster_assignment: ', cluster_assignment)"
   ],
   "metadata": {
    "collapsed": false,
    "ExecuteTime": {
     "end_time": "2023-07-29T05:30:24.349430779Z",
     "start_time": "2023-07-29T05:30:23.657000178Z"
    }
   },
   "id": "b9c0630404a0032c"
  },
  {
   "cell_type": "code",
   "execution_count": null,
   "outputs": [],
   "source": [],
   "metadata": {
    "collapsed": false
   },
   "id": "4972e523ca17e5fd"
  }
 ],
 "metadata": {
  "kernelspec": {
   "display_name": "Python 3",
   "language": "python",
   "name": "python3"
  },
  "language_info": {
   "codemirror_mode": {
    "name": "ipython",
    "version": 2
   },
   "file_extension": ".py",
   "mimetype": "text/x-python",
   "name": "python",
   "nbconvert_exporter": "python",
   "pygments_lexer": "ipython2",
   "version": "2.7.6"
  }
 },
 "nbformat": 4,
 "nbformat_minor": 5
}
